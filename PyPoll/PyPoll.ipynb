{
 "cells": [
  {
   "cell_type": "code",
   "execution_count": 5,
   "metadata": {},
   "outputs": [],
   "source": [
    "import os, csv\n",
    "\n",
    "pypollcsvpath = os.path.join('raw_data','election_data_2.csv')"
   ]
  },
  {
   "cell_type": "code",
   "execution_count": 6,
   "metadata": {},
   "outputs": [],
   "source": [
    "identification=[]\n",
    "names = []\n",
    "with open(pypollcsvpath, newline = \"\") as csvfile:\n",
    "    csvreader = csv.reader(csvfile, delimiter = ',')\n",
    "\n",
    "    for row in csvreader:\n",
    "        identification_start = row[0]\n",
    "        names_start = row[2]\n",
    "\n",
    "        identification.append(row[0])\n",
    "        names.append(row[2])\n",
    "    \n",
    "    identification = identification[1:]\n",
    "    names = names[1:]"
   ]
  },
  {
   "cell_type": "code",
   "execution_count": 7,
   "metadata": {},
   "outputs": [],
   "source": [
    "    num_votes = len(identification)"
   ]
  },
  {
   "cell_type": "code",
   "execution_count": 8,
   "metadata": {},
   "outputs": [],
   "source": [
    "    names_set = set(names)\n",
    "    names_ls = list(names_set)\n",
    "    \n",
    "    names_sort = (sorted(names_ls))\n",
    "   \n",
    "    num_candidates=(len(names_sort))\n",
    "    \n",
    "    full_names_sort= (sorted(names))"
   ]
  },
  {
   "cell_type": "code",
   "execution_count": 9,
   "metadata": {},
   "outputs": [],
   "source": [
    "d = {}\n",
    "d2 = {}\n",
    "\n",
    "for x in names_sort:\n",
    "        counter = full_names_sort.count(x)\n",
    "        d[x]= counter\n",
    "        d2[x] = (d[x]/num_votes)*100"
   ]
  },
  {
   "cell_type": "code",
   "execution_count": 10,
   "metadata": {},
   "outputs": [
    {
     "name": "stdout",
     "output_type": "stream",
     "text": [
      "```\n",
      "Election Results\n",
      "-------------------------\n",
      "Total Votes: 3521001\n",
      "-------------------------\n",
      "Correy: 19.999994319797125% (704200)\n",
      "Khan: 63.00001050837531% (2218231)\n",
      "Li: 13.999996023857989% (492940)\n",
      "O'Tooley: 2.999999147969569% (105630)\n",
      "-------------------------\n",
      "Winner: O'Tooley\n",
      "-------------------------\n",
      "```\n"
     ]
    }
   ],
   "source": [
    "print('```')\n",
    "print('Election Results')\n",
    "print('-------------------------')\n",
    "print('Total Votes: ' + str(num_votes))\n",
    "print('-------------------------')\n",
    "for x in names_sort:\n",
    "    print(f'{x}: {d2[x]}% ({d[x]})')\n",
    "print('-------------------------')\n",
    "print('Winner: ' + max(d2))\n",
    "print('-------------------------')\n",
    "print('```')"
   ]
  },
  {
   "cell_type": "code",
   "execution_count": 11,
   "metadata": {},
   "outputs": [],
   "source": [
    "filename = 'election_data_2.txt'\n",
    "with open(filename, 'w') as f:\n",
    "    f.write('```\\n')\n",
    "    f.write('Election Results\\n')\n",
    "    f.write('-------------------------\\n')\n",
    "    f.write('Total Votes: ' + str(num_votes) + \"\\n\")\n",
    "    f.write('-------------------------\\n')\n",
    "    for x in names_sort:\n",
    "        f.write(f'{x}: {d2[x]}% ({d[x]})\\n')\n",
    "    f.write('-------------------------\\n')\n",
    "    f.write('Winner: ' + max(d2)+'\\n')\n",
    "    f.write('-------------------------\\n')\n",
    "    f.write('```')\n",
    "    "
   ]
  },
  {
   "cell_type": "code",
   "execution_count": null,
   "metadata": {},
   "outputs": [],
   "source": []
  }
 ],
 "metadata": {
  "kernelspec": {
   "display_name": "Python 3",
   "language": "python",
   "name": "python3"
  },
  "language_info": {
   "codemirror_mode": {
    "name": "ipython",
    "version": 3
   },
   "file_extension": ".py",
   "mimetype": "text/x-python",
   "name": "python",
   "nbconvert_exporter": "python",
   "pygments_lexer": "ipython3",
   "version": "3.6.5"
  }
 },
 "nbformat": 4,
 "nbformat_minor": 2
}
